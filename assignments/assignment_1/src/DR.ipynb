{
 "metadata": {
  "language_info": {
   "codemirror_mode": {
    "name": "ipython",
    "version": 3
   },
   "file_extension": ".py",
   "mimetype": "text/x-python",
   "name": "python",
   "nbconvert_exporter": "python",
   "pygments_lexer": "ipython3",
   "version": "3.8.5-final"
  },
  "orig_nbformat": 2,
  "kernelspec": {
   "name": "python38564bitaf0dd08c339d4c579885c49fc075550b",
   "display_name": "Python 3.8.5 64-bit",
   "language": "python"
  }
 },
 "nbformat": 4,
 "nbformat_minor": 2,
 "cells": [
  {
   "source": [
    "Importing required libraries:"
   ],
   "cell_type": "markdown",
   "metadata": {}
  },
  {
   "cell_type": "code",
   "execution_count": 3,
   "metadata": {},
   "outputs": [],
   "source": [
    "import pandas as pd\n",
    "import numpy as np\n",
    "import matplotlib.pyplot as plt\n",
    "from sklearn import linear_model"
   ]
  },
  {
   "source": [
    "Reading the CSV file:"
   ],
   "cell_type": "markdown",
   "metadata": {}
  },
  {
   "cell_type": "code",
   "execution_count": 7,
   "metadata": {},
   "outputs": [
    {
     "output_type": "execute_result",
     "data": {
      "text/plain": [
       "(1150, 20)"
      ]
     },
     "metadata": {},
     "execution_count": 7
    }
   ],
   "source": [
    "data = pd.read_csv(\"../data/17006903.csv\")\n",
    "data.shape"
   ]
  },
  {
   "cell_type": "code",
   "execution_count": 8,
   "metadata": {},
   "outputs": [
    {
     "output_type": "execute_result",
     "data": {
      "text/plain": [
       "   A  B   C   D   E   F   G   H          I          J          K         L  \\\n",
       "0  1  1  22  22  22  19  18  14  49.895756  17.775994   5.270920  0.771761   \n",
       "1  1  1  24  24  22  18  16  13  57.709936  23.799994   3.325423  0.234185   \n",
       "2  1  1  62  60  59  54  47  33  55.831441  27.993933  12.687485  4.852282   \n",
       "3  1  1  55  53  53  50  43  31  40.467228  18.445954   9.118901  3.079428   \n",
       "4  1  1  44  44  44  41  39  27  18.026254   8.570709   0.410381  0.000000   \n",
       "\n",
       "          M         N         O         P         Q         R  S  T  \n",
       "0  0.018632  0.006864  0.003923  0.003923  0.486903  0.100025  1  0  \n",
       "1  0.003903  0.003903  0.003903  0.003903  0.520908  0.144414  0  0  \n",
       "2  1.393889  0.373252  0.041817  0.007744  0.530904  0.128548  0  1  \n",
       "3  0.840261  0.272434  0.007653  0.001531  0.483284  0.114790  0  0  \n",
       "4  0.000000  0.000000  0.000000  0.000000  0.475935  0.123572  0  1  "
      ],
      "text/html": "<div>\n<style scoped>\n    .dataframe tbody tr th:only-of-type {\n        vertical-align: middle;\n    }\n\n    .dataframe tbody tr th {\n        vertical-align: top;\n    }\n\n    .dataframe thead th {\n        text-align: right;\n    }\n</style>\n<table border=\"1\" class=\"dataframe\">\n  <thead>\n    <tr style=\"text-align: right;\">\n      <th></th>\n      <th>A</th>\n      <th>B</th>\n      <th>C</th>\n      <th>D</th>\n      <th>E</th>\n      <th>F</th>\n      <th>G</th>\n      <th>H</th>\n      <th>I</th>\n      <th>J</th>\n      <th>K</th>\n      <th>L</th>\n      <th>M</th>\n      <th>N</th>\n      <th>O</th>\n      <th>P</th>\n      <th>Q</th>\n      <th>R</th>\n      <th>S</th>\n      <th>T</th>\n    </tr>\n  </thead>\n  <tbody>\n    <tr>\n      <th>0</th>\n      <td>1</td>\n      <td>1</td>\n      <td>22</td>\n      <td>22</td>\n      <td>22</td>\n      <td>19</td>\n      <td>18</td>\n      <td>14</td>\n      <td>49.895756</td>\n      <td>17.775994</td>\n      <td>5.270920</td>\n      <td>0.771761</td>\n      <td>0.018632</td>\n      <td>0.006864</td>\n      <td>0.003923</td>\n      <td>0.003923</td>\n      <td>0.486903</td>\n      <td>0.100025</td>\n      <td>1</td>\n      <td>0</td>\n    </tr>\n    <tr>\n      <th>1</th>\n      <td>1</td>\n      <td>1</td>\n      <td>24</td>\n      <td>24</td>\n      <td>22</td>\n      <td>18</td>\n      <td>16</td>\n      <td>13</td>\n      <td>57.709936</td>\n      <td>23.799994</td>\n      <td>3.325423</td>\n      <td>0.234185</td>\n      <td>0.003903</td>\n      <td>0.003903</td>\n      <td>0.003903</td>\n      <td>0.003903</td>\n      <td>0.520908</td>\n      <td>0.144414</td>\n      <td>0</td>\n      <td>0</td>\n    </tr>\n    <tr>\n      <th>2</th>\n      <td>1</td>\n      <td>1</td>\n      <td>62</td>\n      <td>60</td>\n      <td>59</td>\n      <td>54</td>\n      <td>47</td>\n      <td>33</td>\n      <td>55.831441</td>\n      <td>27.993933</td>\n      <td>12.687485</td>\n      <td>4.852282</td>\n      <td>1.393889</td>\n      <td>0.373252</td>\n      <td>0.041817</td>\n      <td>0.007744</td>\n      <td>0.530904</td>\n      <td>0.128548</td>\n      <td>0</td>\n      <td>1</td>\n    </tr>\n    <tr>\n      <th>3</th>\n      <td>1</td>\n      <td>1</td>\n      <td>55</td>\n      <td>53</td>\n      <td>53</td>\n      <td>50</td>\n      <td>43</td>\n      <td>31</td>\n      <td>40.467228</td>\n      <td>18.445954</td>\n      <td>9.118901</td>\n      <td>3.079428</td>\n      <td>0.840261</td>\n      <td>0.272434</td>\n      <td>0.007653</td>\n      <td>0.001531</td>\n      <td>0.483284</td>\n      <td>0.114790</td>\n      <td>0</td>\n      <td>0</td>\n    </tr>\n    <tr>\n      <th>4</th>\n      <td>1</td>\n      <td>1</td>\n      <td>44</td>\n      <td>44</td>\n      <td>44</td>\n      <td>41</td>\n      <td>39</td>\n      <td>27</td>\n      <td>18.026254</td>\n      <td>8.570709</td>\n      <td>0.410381</td>\n      <td>0.000000</td>\n      <td>0.000000</td>\n      <td>0.000000</td>\n      <td>0.000000</td>\n      <td>0.000000</td>\n      <td>0.475935</td>\n      <td>0.123572</td>\n      <td>0</td>\n      <td>1</td>\n    </tr>\n  </tbody>\n</table>\n</div>"
     },
     "metadata": {},
     "execution_count": 8
    }
   ],
   "source": [
    "data.head()"
   ]
  },
  {
   "source": [
    "Features"
   ],
   "cell_type": "markdown",
   "metadata": {}
  },
  {
   "cell_type": "code",
   "execution_count": 50,
   "metadata": {},
   "outputs": [
    {
     "output_type": "execute_result",
     "data": {
      "text/plain": [
       "20"
      ]
     },
     "metadata": {},
     "execution_count": 50
    }
   ],
   "source": [
    "feature_names = ['quality', 'retinal_abnormality']\n",
    "feature_names.extend(['feat1_{}'.format(str(i)) for i in range(6)])\n",
    "feature_names.extend(['feat2_{}'.format(str(i)) for i in range(8)])\n",
    "feature_names.extend(['dist_of_macula_and_optic_disc', 'diameter_of_optic_disc', 'am_fm_classification', 'dr'])\n",
    "len(feature_names)"
   ]
  },
  {
   "cell_type": "code",
   "execution_count": 51,
   "metadata": {},
   "outputs": [],
   "source": [
    "data.columns = feature_names"
   ]
  },
  {
   "cell_type": "code",
   "execution_count": 53,
   "metadata": {},
   "outputs": [
    {
     "output_type": "execute_result",
     "data": {
      "text/plain": [
       "(1146, 20)"
      ]
     },
     "metadata": {},
     "execution_count": 53
    }
   ],
   "source": [
    "data[data.quality != 0].shape"
   ]
  },
  {
   "cell_type": "code",
   "execution_count": 54,
   "metadata": {},
   "outputs": [
    {
     "output_type": "execute_result",
     "data": {
      "text/plain": [
       "   quality  retinal_abnormality  feat1_0  feat1_1  feat1_2  feat1_3  feat1_4  \\\n",
       "0        1                    1       22       22       22       19       18   \n",
       "1        1                    1       24       24       22       18       16   \n",
       "2        1                    1       62       60       59       54       47   \n",
       "3        1                    1       55       53       53       50       43   \n",
       "4        1                    1       44       44       44       41       39   \n",
       "\n",
       "   feat1_5    feat2_0    feat2_1    feat2_2   feat2_3   feat2_4   feat2_5  \\\n",
       "0       14  49.895756  17.775994   5.270920  0.771761  0.018632  0.006864   \n",
       "1       13  57.709936  23.799994   3.325423  0.234185  0.003903  0.003903   \n",
       "2       33  55.831441  27.993933  12.687485  4.852282  1.393889  0.373252   \n",
       "3       31  40.467228  18.445954   9.118901  3.079428  0.840261  0.272434   \n",
       "4       27  18.026254   8.570709   0.410381  0.000000  0.000000  0.000000   \n",
       "\n",
       "    feat2_6   feat2_7  dist_of_macula_and_optic_disc  diameter_of_optic_disc  \\\n",
       "0  0.003923  0.003923                       0.486903                0.100025   \n",
       "1  0.003903  0.003903                       0.520908                0.144414   \n",
       "2  0.041817  0.007744                       0.530904                0.128548   \n",
       "3  0.007653  0.001531                       0.483284                0.114790   \n",
       "4  0.000000  0.000000                       0.475935                0.123572   \n",
       "\n",
       "   am_fm_classification  dr  \n",
       "0                     1   0  \n",
       "1                     0   0  \n",
       "2                     0   1  \n",
       "3                     0   0  \n",
       "4                     0   1  "
      ],
      "text/html": "<div>\n<style scoped>\n    .dataframe tbody tr th:only-of-type {\n        vertical-align: middle;\n    }\n\n    .dataframe tbody tr th {\n        vertical-align: top;\n    }\n\n    .dataframe thead th {\n        text-align: right;\n    }\n</style>\n<table border=\"1\" class=\"dataframe\">\n  <thead>\n    <tr style=\"text-align: right;\">\n      <th></th>\n      <th>quality</th>\n      <th>retinal_abnormality</th>\n      <th>feat1_0</th>\n      <th>feat1_1</th>\n      <th>feat1_2</th>\n      <th>feat1_3</th>\n      <th>feat1_4</th>\n      <th>feat1_5</th>\n      <th>feat2_0</th>\n      <th>feat2_1</th>\n      <th>feat2_2</th>\n      <th>feat2_3</th>\n      <th>feat2_4</th>\n      <th>feat2_5</th>\n      <th>feat2_6</th>\n      <th>feat2_7</th>\n      <th>dist_of_macula_and_optic_disc</th>\n      <th>diameter_of_optic_disc</th>\n      <th>am_fm_classification</th>\n      <th>dr</th>\n    </tr>\n  </thead>\n  <tbody>\n    <tr>\n      <th>0</th>\n      <td>1</td>\n      <td>1</td>\n      <td>22</td>\n      <td>22</td>\n      <td>22</td>\n      <td>19</td>\n      <td>18</td>\n      <td>14</td>\n      <td>49.895756</td>\n      <td>17.775994</td>\n      <td>5.270920</td>\n      <td>0.771761</td>\n      <td>0.018632</td>\n      <td>0.006864</td>\n      <td>0.003923</td>\n      <td>0.003923</td>\n      <td>0.486903</td>\n      <td>0.100025</td>\n      <td>1</td>\n      <td>0</td>\n    </tr>\n    <tr>\n      <th>1</th>\n      <td>1</td>\n      <td>1</td>\n      <td>24</td>\n      <td>24</td>\n      <td>22</td>\n      <td>18</td>\n      <td>16</td>\n      <td>13</td>\n      <td>57.709936</td>\n      <td>23.799994</td>\n      <td>3.325423</td>\n      <td>0.234185</td>\n      <td>0.003903</td>\n      <td>0.003903</td>\n      <td>0.003903</td>\n      <td>0.003903</td>\n      <td>0.520908</td>\n      <td>0.144414</td>\n      <td>0</td>\n      <td>0</td>\n    </tr>\n    <tr>\n      <th>2</th>\n      <td>1</td>\n      <td>1</td>\n      <td>62</td>\n      <td>60</td>\n      <td>59</td>\n      <td>54</td>\n      <td>47</td>\n      <td>33</td>\n      <td>55.831441</td>\n      <td>27.993933</td>\n      <td>12.687485</td>\n      <td>4.852282</td>\n      <td>1.393889</td>\n      <td>0.373252</td>\n      <td>0.041817</td>\n      <td>0.007744</td>\n      <td>0.530904</td>\n      <td>0.128548</td>\n      <td>0</td>\n      <td>1</td>\n    </tr>\n    <tr>\n      <th>3</th>\n      <td>1</td>\n      <td>1</td>\n      <td>55</td>\n      <td>53</td>\n      <td>53</td>\n      <td>50</td>\n      <td>43</td>\n      <td>31</td>\n      <td>40.467228</td>\n      <td>18.445954</td>\n      <td>9.118901</td>\n      <td>3.079428</td>\n      <td>0.840261</td>\n      <td>0.272434</td>\n      <td>0.007653</td>\n      <td>0.001531</td>\n      <td>0.483284</td>\n      <td>0.114790</td>\n      <td>0</td>\n      <td>0</td>\n    </tr>\n    <tr>\n      <th>4</th>\n      <td>1</td>\n      <td>1</td>\n      <td>44</td>\n      <td>44</td>\n      <td>44</td>\n      <td>41</td>\n      <td>39</td>\n      <td>27</td>\n      <td>18.026254</td>\n      <td>8.570709</td>\n      <td>0.410381</td>\n      <td>0.000000</td>\n      <td>0.000000</td>\n      <td>0.000000</td>\n      <td>0.000000</td>\n      <td>0.000000</td>\n      <td>0.475935</td>\n      <td>0.123572</td>\n      <td>0</td>\n      <td>1</td>\n    </tr>\n  </tbody>\n</table>\n</div>"
     },
     "metadata": {},
     "execution_count": 54
    }
   ],
   "source": [
    "data.head()"
   ]
  }
 ]
}