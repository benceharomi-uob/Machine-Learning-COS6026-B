{
  "nbformat": 4,
  "nbformat_minor": 0,
  "metadata": {
    "colab": {
      "name": "lab_08_nn.ipynb",
      "provenance": [],
      "collapsed_sections": []
    },
    "kernelspec": {
      "name": "python3",
      "display_name": "Python 3"
    },
    "language_info": {
      "name": "python"
    }
  },
  "cells": [
    {
      "cell_type": "markdown",
      "metadata": {
        "id": "lM8DBtbGPnXq"
      },
      "source": [
        "Sigmoid function"
      ]
    },
    {
      "cell_type": "code",
      "metadata": {
        "id": "8a8I1i7rC1Cj"
      },
      "source": [
        "import numpy as np\n",
        "\n",
        "def nonlin(x, deriv=False):\n",
        "    if (deriv == True):\n",
        "        return x * (1 - x)\n",
        "    return 1 / (1 + np.exp(-x))"
      ],
      "execution_count": 1,
      "outputs": []
    },
    {
      "cell_type": "markdown",
      "metadata": {
        "id": "sqsR7MG0PwqF"
      },
      "source": [
        "Input dataset"
      ]
    },
    {
      "cell_type": "code",
      "metadata": {
        "id": "m5HsIv72Ptxo"
      },
      "source": [
        "X = np.array([[0, 0, 1],\n",
        "              [0, 1, 1],\n",
        "              [1, 0, 1],\n",
        "              [1, 1, 1]])"
      ],
      "execution_count": 2,
      "outputs": []
    },
    {
      "cell_type": "markdown",
      "metadata": {
        "id": "WPgz54nTP053"
      },
      "source": [
        "Output dataset"
      ]
    },
    {
      "cell_type": "code",
      "metadata": {
        "id": "qCrHzDYGP0IY"
      },
      "source": [
        "y = np.array([[0, 0, 1, 1]]).T"
      ],
      "execution_count": 3,
      "outputs": []
    },
    {
      "cell_type": "markdown",
      "metadata": {
        "id": "Pncjl6dOQLDr"
      },
      "source": [
        "Seed random numbers to make calculation deterministic (just a good practice)"
      ]
    },
    {
      "cell_type": "code",
      "metadata": {
        "id": "pD5Wd4VAP4Mt"
      },
      "source": [
        "np.random.seed(1)"
      ],
      "execution_count": 4,
      "outputs": []
    },
    {
      "cell_type": "markdown",
      "metadata": {
        "id": "c0LV--SMP6y3"
      },
      "source": [
        "Initialize weights randomly with mean 0"
      ]
    },
    {
      "cell_type": "code",
      "metadata": {
        "colab": {
          "base_uri": "https://localhost:8080/"
        },
        "id": "RCNYxApiP7A5",
        "outputId": "31bb0e8f-3156-419a-911f-ec869b3e76d0"
      },
      "source": [
        "syn0 = 2 * np.random.random((3, 1)) - 1\n",
        "for iter in range(10000):\n",
        "    # forward propagation\n",
        "    l0 = X\n",
        "    l1 = nonlin(np.dot(l0, syn0))\n",
        "# how much did we miss?\n",
        "    l1_error = y - l1\n",
        "# multiply how much we missed by the\n",
        "# slope of the sigmoid at the values in l1\n",
        "    l1_delta = l1_error * nonlin(l1, True)\n",
        "# update weights\n",
        "    syn0 += np.dot(l0.T, l1_delta)\n",
        "print(\"Output After Training:\")\n",
        "print(l1)"
      ],
      "execution_count": 5,
      "outputs": [
        {
          "output_type": "stream",
          "text": [
            "Output After Training:\n",
            "[[0.00966449]\n",
            " [0.00786506]\n",
            " [0.99358898]\n",
            " [0.99211957]]\n"
          ],
          "name": "stdout"
        }
      ]
    }
  ]
}